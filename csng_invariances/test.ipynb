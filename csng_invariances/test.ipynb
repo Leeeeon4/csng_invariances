{
 "cells": [
  {
   "cell_type": "code",
   "execution_count": 1,
   "metadata": {},
   "outputs": [],
   "source": [
    "%matplotlib inline"
   ]
  },
  {
   "cell_type": "code",
   "execution_count": 2,
   "metadata": {},
   "outputs": [],
   "source": [
    "import matplotlib \n",
    "import matplotlib.pyplot as plt\n",
    "import numpy as np\n",
    "import pandas as pd"
   ]
  },
  {
   "cell_type": "code",
   "execution_count": 3,
   "metadata": {},
   "outputs": [],
   "source": [
    "import utility.lin_filter as lf \n",
    "import datasets.lurz2020 as lu"
   ]
  },
  {
   "cell_type": "code",
   "execution_count": 4,
   "metadata": {},
   "outputs": [
    {
     "data": {
      "text/html": [
       "<pre style=\"white-space:pre;overflow-x:auto;line-height:normal;font-family:Menlo,'DejaVu Sans Mono',consolas,'Courier New',monospace\">The train set of dataset <span style=\"color: #008080; text-decoration-color: #008080; font-weight: bold\">20457</span>-<span style=\"color: #008080; text-decoration-color: #008080; font-weight: bold\">5</span>-<span style=\"color: #008080; text-decoration-color: #008080; font-weight: bold\">9</span>-<span style=\"color: #008080; text-decoration-color: #008080; font-weight: bold\">0</span> contains the responses of <span style=\"color: #008080; text-decoration-color: #008080; font-weight: bold\">5335</span> neurons to <span style=\"color: #008080; text-decoration-color: #008080; font-weight: bold\">4472</span> images.\n",
       "</pre>\n"
      ],
      "text/plain": [
       "The train set of dataset \u001b[1;36m20457\u001b[0m-\u001b[1;36m5\u001b[0m-\u001b[1;36m9\u001b[0m-\u001b[1;36m0\u001b[0m contains the responses of \u001b[1;36m5335\u001b[0m neurons to \u001b[1;36m4472\u001b[0m images.\n"
      ]
     },
     "metadata": {},
     "output_type": "display_data"
    }
   ],
   "source": [
    "dataloaders, _ = lu.get_dataloaders()\n",
    "train_img, train_resp = lu.get_complete_dataset(dataloaders, \"train\")"
   ]
  },
  {
   "cell_type": "code",
   "execution_count": 44,
   "metadata": {},
   "outputs": [],
   "source": [
    "fil = lf.GlobalRegularizationFilter(train_img, train_resp, reg_type=\"ridge regularized\",reg_factor=1000000000000)"
   ]
  },
  {
   "cell_type": "code",
   "execution_count": 45,
   "metadata": {},
   "outputs": [
    {
     "data": {
      "text/html": [
       "<pre style=\"white-space:pre;overflow-x:auto;line-height:normal;font-family:Menlo,'DejaVu Sans Mono',consolas,'Courier New',monospace\">The current image shape is <span style=\"color: #800080; text-decoration-color: #800080; font-weight: bold\">torch.Size</span><span style=\"font-weight: bold\">([</span><span style=\"color: #008080; text-decoration-color: #008080; font-weight: bold\">4472</span>, <span style=\"color: #008080; text-decoration-color: #008080; font-weight: bold\">2304</span><span style=\"font-weight: bold\">])</span>              \n",
       "and the response shape is <span style=\"color: #800080; text-decoration-color: #800080; font-weight: bold\">torch.Size</span><span style=\"font-weight: bold\">([</span><span style=\"color: #008080; text-decoration-color: #008080; font-weight: bold\">4472</span>, <span style=\"color: #008080; text-decoration-color: #008080; font-weight: bold\">5335</span><span style=\"font-weight: bold\">])</span>.\n",
       "</pre>\n"
      ],
      "text/plain": [
       "The current image shape is \u001b[1;35mtorch.Size\u001b[0m\u001b[1m(\u001b[0m\u001b[1m[\u001b[0m\u001b[1;36m4472\u001b[0m, \u001b[1;36m2304\u001b[0m\u001b[1m]\u001b[0m\u001b[1m)\u001b[0m              \n",
       "and the response shape is \u001b[1;35mtorch.Size\u001b[0m\u001b[1m(\u001b[0m\u001b[1m[\u001b[0m\u001b[1;36m4472\u001b[0m, \u001b[1;36m5335\u001b[0m\u001b[1m]\u001b[0m\u001b[1m)\u001b[0m.\n"
      ]
     },
     "metadata": {},
     "output_type": "display_data"
    },
    {
     "data": {
      "text/html": [
       "<pre style=\"white-space:pre;overflow-x:auto;line-height:normal;font-family:Menlo,'DejaVu Sans Mono',consolas,'Courier New',monospace\">No filter has yet been computed.\n",
       "</pre>\n"
      ],
      "text/plain": [
       "No filter has yet been computed.\n"
      ]
     },
     "metadata": {},
     "output_type": "display_data"
    },
    {
     "data": {
      "text/html": [
       "<pre style=\"white-space:pre;overflow-x:auto;line-height:normal;font-family:Menlo,'DejaVu Sans Mono',consolas,'Courier New',monospace\">No predictions have been computed yet.\n",
       "</pre>\n"
      ],
      "text/plain": [
       "No predictions have been computed yet.\n"
      ]
     },
     "metadata": {},
     "output_type": "display_data"
    },
    {
     "data": {
      "text/html": [
       "<pre style=\"white-space:pre;overflow-x:auto;line-height:normal;font-family:Menlo,'DejaVu Sans Mono',consolas,'Courier New',monospace\">The current image shape is <span style=\"color: #800080; text-decoration-color: #800080; font-weight: bold\">torch.Size</span><span style=\"font-weight: bold\">([</span><span style=\"color: #008080; text-decoration-color: #008080; font-weight: bold\">4472</span>, <span style=\"color: #008080; text-decoration-color: #008080; font-weight: bold\">2304</span><span style=\"font-weight: bold\">])</span>              \n",
       "and the response shape is <span style=\"color: #800080; text-decoration-color: #800080; font-weight: bold\">torch.Size</span><span style=\"font-weight: bold\">([</span><span style=\"color: #008080; text-decoration-color: #008080; font-weight: bold\">4472</span>, <span style=\"color: #008080; text-decoration-color: #008080; font-weight: bold\">5335</span><span style=\"font-weight: bold\">])</span>.\n",
       "</pre>\n"
      ],
      "text/plain": [
       "The current image shape is \u001b[1;35mtorch.Size\u001b[0m\u001b[1m(\u001b[0m\u001b[1m[\u001b[0m\u001b[1;36m4472\u001b[0m, \u001b[1;36m2304\u001b[0m\u001b[1m]\u001b[0m\u001b[1m)\u001b[0m              \n",
       "and the response shape is \u001b[1;35mtorch.Size\u001b[0m\u001b[1m(\u001b[0m\u001b[1m[\u001b[0m\u001b[1;36m4472\u001b[0m, \u001b[1;36m5335\u001b[0m\u001b[1m]\u001b[0m\u001b[1m)\u001b[0m.\n"
      ]
     },
     "metadata": {},
     "output_type": "display_data"
    },
    {
     "data": {
      "text/html": [
       "<pre style=\"white-space:pre;overflow-x:auto;line-height:normal;font-family:Menlo,'DejaVu Sans Mono',consolas,'Courier New',monospace\">The current filter shape is <span style=\"color: #800080; text-decoration-color: #800080; font-weight: bold\">torch.Size</span><span style=\"font-weight: bold\">([</span><span style=\"color: #008080; text-decoration-color: #008080; font-weight: bold\">2304</span>, <span style=\"color: #008080; text-decoration-color: #008080; font-weight: bold\">5335</span><span style=\"font-weight: bold\">])</span>.\n",
       "</pre>\n"
      ],
      "text/plain": [
       "The current filter shape is \u001b[1;35mtorch.Size\u001b[0m\u001b[1m(\u001b[0m\u001b[1m[\u001b[0m\u001b[1;36m2304\u001b[0m, \u001b[1;36m5335\u001b[0m\u001b[1m]\u001b[0m\u001b[1m)\u001b[0m.\n"
      ]
     },
     "metadata": {},
     "output_type": "display_data"
    },
    {
     "data": {
      "text/html": [
       "<pre style=\"white-space:pre;overflow-x:auto;line-height:normal;font-family:Menlo,'DejaVu Sans Mono',consolas,'Courier New',monospace\">No predictions have been computed yet.\n",
       "</pre>\n"
      ],
      "text/plain": [
       "No predictions have been computed yet.\n"
      ]
     },
     "metadata": {},
     "output_type": "display_data"
    },
    {
     "data": {
      "text/html": [
       "<pre style=\"white-space:pre;overflow-x:auto;line-height:normal;font-family:Menlo,'DejaVu Sans Mono',consolas,'Courier New',monospace\">The current image shape is <span style=\"color: #800080; text-decoration-color: #800080; font-weight: bold\">torch.Size</span><span style=\"font-weight: bold\">([</span><span style=\"color: #008080; text-decoration-color: #008080; font-weight: bold\">4472</span>, <span style=\"color: #008080; text-decoration-color: #008080; font-weight: bold\">2304</span><span style=\"font-weight: bold\">])</span>              \n",
       "and the response shape is <span style=\"color: #800080; text-decoration-color: #800080; font-weight: bold\">torch.Size</span><span style=\"font-weight: bold\">([</span><span style=\"color: #008080; text-decoration-color: #008080; font-weight: bold\">4472</span>, <span style=\"color: #008080; text-decoration-color: #008080; font-weight: bold\">5335</span><span style=\"font-weight: bold\">])</span>.\n",
       "</pre>\n"
      ],
      "text/plain": [
       "The current image shape is \u001b[1;35mtorch.Size\u001b[0m\u001b[1m(\u001b[0m\u001b[1m[\u001b[0m\u001b[1;36m4472\u001b[0m, \u001b[1;36m2304\u001b[0m\u001b[1m]\u001b[0m\u001b[1m)\u001b[0m              \n",
       "and the response shape is \u001b[1;35mtorch.Size\u001b[0m\u001b[1m(\u001b[0m\u001b[1m[\u001b[0m\u001b[1;36m4472\u001b[0m, \u001b[1;36m5335\u001b[0m\u001b[1m]\u001b[0m\u001b[1m)\u001b[0m.\n"
      ]
     },
     "metadata": {},
     "output_type": "display_data"
    },
    {
     "data": {
      "text/html": [
       "<pre style=\"white-space:pre;overflow-x:auto;line-height:normal;font-family:Menlo,'DejaVu Sans Mono',consolas,'Courier New',monospace\">The current filter shape is <span style=\"font-weight: bold\">(</span><span style=\"color: #008080; text-decoration-color: #008080; font-weight: bold\">5335</span>, <span style=\"color: #008080; text-decoration-color: #008080; font-weight: bold\">1</span>, <span style=\"color: #008080; text-decoration-color: #008080; font-weight: bold\">36</span>, <span style=\"color: #008080; text-decoration-color: #008080; font-weight: bold\">64</span><span style=\"font-weight: bold\">)</span>.\n",
       "</pre>\n"
      ],
      "text/plain": [
       "The current filter shape is \u001b[1m(\u001b[0m\u001b[1;36m5335\u001b[0m, \u001b[1;36m1\u001b[0m, \u001b[1;36m36\u001b[0m, \u001b[1;36m64\u001b[0m\u001b[1m)\u001b[0m.\n"
      ]
     },
     "metadata": {},
     "output_type": "display_data"
    },
    {
     "data": {
      "text/html": [
       "<pre style=\"white-space:pre;overflow-x:auto;line-height:normal;font-family:Menlo,'DejaVu Sans Mono',consolas,'Courier New',monospace\">No predictions have been computed yet.\n",
       "</pre>\n"
      ],
      "text/plain": [
       "No predictions have been computed yet.\n"
      ]
     },
     "metadata": {},
     "output_type": "display_data"
    },
    {
     "data": {
      "text/plain": [
       "array([[[[1.40927275e-07, 1.40485818e-07, 1.43181268e-07, ...,\n",
       "          1.42495012e-07, 1.40374970e-07, 1.40551755e-07],\n",
       "         [1.42151173e-07, 1.41778720e-07, 1.44395562e-07, ...,\n",
       "          1.44027541e-07, 1.41302922e-07, 1.41034744e-07],\n",
       "         [1.41155415e-07, 1.40702969e-07, 1.43606230e-07, ...,\n",
       "          1.45254666e-07, 1.42707773e-07, 1.42783053e-07],\n",
       "         ...,\n",
       "         [1.44242102e-07, 1.44483859e-07, 1.45493007e-07, ...,\n",
       "          1.40523070e-07, 1.36806335e-07, 1.36899935e-07],\n",
       "         [1.44828417e-07, 1.43593319e-07, 1.44096902e-07, ...,\n",
       "          1.39395099e-07, 1.35721238e-07, 1.35717791e-07],\n",
       "         [1.44600990e-07, 1.44489467e-07, 1.46074764e-07, ...,\n",
       "          1.38941825e-07, 1.36688806e-07, 1.36485241e-07]]],\n",
       "\n",
       "\n",
       "       [[[2.06313153e-07, 2.06342887e-07, 2.06860492e-07, ...,\n",
       "          2.06586155e-07, 2.03407329e-07, 2.02949343e-07],\n",
       "         [2.07004279e-07, 2.05870357e-07, 2.07507876e-07, ...,\n",
       "          2.07720300e-07, 2.04585881e-07, 2.01607974e-07],\n",
       "         [2.06832410e-07, 2.06254215e-07, 2.07072583e-07, ...,\n",
       "          2.07747356e-07, 2.07238740e-07, 2.02406902e-07],\n",
       "         ...,\n",
       "         [1.98753036e-07, 1.98122178e-07, 1.99883194e-07, ...,\n",
       "          1.96081153e-07, 1.95523724e-07, 1.95032358e-07],\n",
       "         [2.00112516e-07, 1.99463695e-07, 2.02052475e-07, ...,\n",
       "          1.95490358e-07, 1.95374931e-07, 1.94830504e-07],\n",
       "         [1.98246141e-07, 1.97742412e-07, 2.00936503e-07, ...,\n",
       "          1.95703695e-07, 1.95295521e-07, 1.93814969e-07]]],\n",
       "\n",
       "\n",
       "       [[[2.20633915e-07, 2.20488086e-07, 2.21200439e-07, ...,\n",
       "          2.22299934e-07, 2.20246185e-07, 2.19758961e-07],\n",
       "         [2.21798539e-07, 2.23385314e-07, 2.23037094e-07, ...,\n",
       "          2.23761876e-07, 2.22132576e-07, 2.19590271e-07],\n",
       "         [2.19352314e-07, 2.21580106e-07, 2.22355864e-07, ...,\n",
       "          2.23885125e-07, 2.22607357e-07, 2.21831078e-07],\n",
       "         ...,\n",
       "         [2.18837130e-07, 2.20259739e-07, 2.21369647e-07, ...,\n",
       "          2.17688772e-07, 2.15671850e-07, 2.15282974e-07],\n",
       "         [2.18922923e-07, 2.19065112e-07, 2.21673565e-07, ...,\n",
       "          2.17068009e-07, 2.15188348e-07, 2.13598213e-07],\n",
       "         [2.18406162e-07, 2.17609872e-07, 2.19986527e-07, ...,\n",
       "          2.14186162e-07, 2.12363131e-07, 2.11782566e-07]]],\n",
       "\n",
       "\n",
       "       ...,\n",
       "\n",
       "\n",
       "       [[[1.38758072e-07, 1.39198601e-07, 1.41371315e-07, ...,\n",
       "          1.36082644e-07, 1.35929648e-07, 1.36834098e-07],\n",
       "         [1.38478399e-07, 1.40386267e-07, 1.40939378e-07, ...,\n",
       "          1.35920385e-07, 1.34959546e-07, 1.35817634e-07],\n",
       "         [1.36314423e-07, 1.38561081e-07, 1.38891310e-07, ...,\n",
       "          1.37232969e-07, 1.36902547e-07, 1.36609156e-07],\n",
       "         ...,\n",
       "         [1.29435160e-07, 1.29959686e-07, 1.29465119e-07, ...,\n",
       "          1.25907544e-07, 1.26365077e-07, 1.27893228e-07],\n",
       "         [1.32441422e-07, 1.31839622e-07, 1.30605706e-07, ...,\n",
       "          1.25423310e-07, 1.27562750e-07, 1.26178390e-07],\n",
       "         [1.34288037e-07, 1.33631267e-07, 1.32238530e-07, ...,\n",
       "          1.24326499e-07, 1.26930777e-07, 1.26573836e-07]]],\n",
       "\n",
       "\n",
       "       [[[2.12776542e-07, 2.11507001e-07, 2.12445385e-07, ...,\n",
       "          2.17353347e-07, 2.18865333e-07, 2.19523016e-07],\n",
       "         [2.13241148e-07, 2.15374472e-07, 2.13511642e-07, ...,\n",
       "          2.18214111e-07, 2.19472700e-07, 2.18131791e-07],\n",
       "         [2.13191721e-07, 2.16243196e-07, 2.11912743e-07, ...,\n",
       "          2.16730273e-07, 2.19493466e-07, 2.17581912e-07],\n",
       "         ...,\n",
       "         [2.06656227e-07, 2.06154411e-07, 2.06652122e-07, ...,\n",
       "          2.03800850e-07, 2.05073376e-07, 2.05308349e-07],\n",
       "         [2.08335540e-07, 2.08625566e-07, 2.07244349e-07, ...,\n",
       "          2.03258695e-07, 2.03798825e-07, 2.02619140e-07],\n",
       "         [2.07263129e-07, 2.06811522e-07, 2.04231561e-07, ...,\n",
       "          2.04515638e-07, 2.06120585e-07, 2.03047017e-07]]],\n",
       "\n",
       "\n",
       "       [[[1.43109087e-07, 1.45881562e-07, 1.46783384e-07, ...,\n",
       "          1.52941059e-07, 1.51178785e-07, 1.50194764e-07],\n",
       "         [1.44984648e-07, 1.45715803e-07, 1.48253722e-07, ...,\n",
       "          1.51416443e-07, 1.49351856e-07, 1.46619736e-07],\n",
       "         [1.43891205e-07, 1.43569461e-07, 1.43826670e-07, ...,\n",
       "          1.52974411e-07, 1.48843419e-07, 1.46430887e-07],\n",
       "         ...,\n",
       "         [1.42379663e-07, 1.42671063e-07, 1.45227606e-07, ...,\n",
       "          1.46481462e-07, 1.45879029e-07, 1.44459795e-07],\n",
       "         [1.42693234e-07, 1.44554264e-07, 1.45442292e-07, ...,\n",
       "          1.45325528e-07, 1.43687861e-07, 1.42526131e-07],\n",
       "         [1.42115782e-07, 1.43763581e-07, 1.46054895e-07, ...,\n",
       "          1.44285182e-07, 1.44529433e-07, 1.42206808e-07]]]])"
      ]
     },
     "execution_count": 45,
     "metadata": {},
     "output_type": "execute_result"
    }
   ],
   "source": [
    "fil.train()"
   ]
  },
  {
   "cell_type": "code",
   "execution_count": 46,
   "metadata": {},
   "outputs": [
    {
     "data": {
      "image/png": "[encoded data removed]",
      "text/plain": [
       "<Figure size 432x288 with 1 Axes>"
      ]
     },
     "metadata": {
      "needs_background": "light"
     },
     "output_type": "display_data"
    }
   ],
   "source": [
    "for i in range(5):\n",
    "    plt.imshow(fil.fil[i, 0, :, :])\n",
    "    plt.savefig(f\"ridge_reg_example_{i}.png\")"
   ]
  },
  {
   "cell_type": "code",
   "execution_count": 13,
   "metadata": {},
   "outputs": [],
   "source": [
    "import torch"
   ]
  },
  {
   "cell_type": "code",
   "execution_count": 9,
   "metadata": {},
   "outputs": [
    {
     "name": "stdout",
     "output_type": "stream",
     "text": [
      "[[ 1.62434536 -0.61175641 -0.52817175 -1.07296862  0.86540763 -2.3015387\n",
      "   1.74481176 -0.7612069   0.3190391 ]\n",
      " [-0.24937038  1.46210794 -2.06014071 -0.3224172  -0.38405435  1.13376944\n",
      "  -1.09989127 -0.17242821 -0.87785842]]\n",
      "(2, 9)\n",
      "[[ 1.62434536 -0.24937038]\n",
      " [-0.61175641  1.46210794]\n",
      " [-0.52817175 -2.06014071]\n",
      " [-1.07296862 -0.3224172 ]\n",
      " [ 0.86540763 -0.38405435]\n",
      " [-2.3015387   1.13376944]\n",
      " [ 1.74481176 -1.09989127]\n",
      " [-0.7612069  -0.17242821]\n",
      " [ 0.3190391  -0.87785842]]\n",
      "(9, 2)\n"
     ]
    }
   ],
   "source": [
    "a = torch.from_numpy(np.random.randn(2,9))\n",
    "a= a.numpy()\n",
    "print(a)\n",
    "print(a.shape)\n",
    "a = np.moveaxis(a, [0,1], [1,0])\n",
    "print(a)\n",
    "print(a.shape)"
   ]
  },
  {
   "cell_type": "code",
   "execution_count": null,
   "metadata": {},
   "outputs": [],
   "source": []
  }
 ],
 "metadata": {
  "interpreter": {
   "hash": "1a93af3466aa3b335b4162b30edc637e18d58391b44abdda836c90531628433f"
  },
  "kernelspec": {
   "display_name": "Python 3.8.10 64-bit ('venv': venv)",
   "name": "python3"
  },
  "language_info": {
   "codemirror_mode": {
    "name": "ipython",
    "version": 3
   },
   "file_extension": ".py",
   "mimetype": "text/x-python",
   "name": "python",
   "nbconvert_exporter": "python",
   "pygments_lexer": "ipython3",
   "version": "3.8.10"
  },
  "orig_nbformat": 4
 },
 "nbformat": 4,
 "nbformat_minor": 2
}
